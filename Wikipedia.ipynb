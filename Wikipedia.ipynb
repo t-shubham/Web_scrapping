{
 "cells": [
  {
   "cell_type": "code",
   "execution_count": 2,
   "metadata": {},
   "outputs": [],
   "source": [
    "import requests\n",
    "from bs4 import BeautifulSoup\n",
    "import csv"
   ]
  },
  {
   "cell_type": "code",
   "execution_count": 5,
   "metadata": {},
   "outputs": [],
   "source": [
    "website=requests.get('https://en.wikipedia.org/wiki/List_of_countries_and_dependencies_by_population')\n",
    "soup=BeautifulSoup(website.text,'html.parser')"
   ]
  },
  {
   "cell_type": "code",
   "execution_count": 6,
   "metadata": {},
   "outputs": [],
   "source": [
    "table=soup.select_one('.wikitable')\n",
    "table_rows=table.select('tr')[1:-1]\n",
    "csv_data=[['rank','name','population','percentage','date']]"
   ]
  },
  {
   "cell_type": "code",
   "execution_count": 8,
   "metadata": {},
   "outputs": [],
   "source": [
    "for row in table_rows:\n",
    "    rank=row.find('th').text.strip()\n",
    "    table_data=row.select('td')\n",
    "    name=table_data[1].text\n",
    "    population=table_data[2].text\n",
    "    percentage=table_data[3].text\n",
    "    csv_data.append([rank,name,population,percentage])"
   ]
  },
  {
   "cell_type": "code",
   "execution_count": 9,
   "metadata": {},
   "outputs": [],
   "source": [
    "with open('first_table_population.csv','w') as f:\n",
    "    w=csv.writer(f)\n",
    "    w.writerows(csv_data)"
   ]
  },
  {
   "cell_type": "code",
   "execution_count": null,
   "metadata": {},
   "outputs": [],
   "source": []
  }
 ],
 "metadata": {
  "kernelspec": {
   "display_name": "Python 3",
   "language": "python",
   "name": "python3"
  },
  "language_info": {
   "codemirror_mode": {
    "name": "ipython",
    "version": 3
   },
   "file_extension": ".py",
   "mimetype": "text/x-python",
   "name": "python",
   "nbconvert_exporter": "python",
   "pygments_lexer": "ipython3",
   "version": "3.8.5"
  }
 },
 "nbformat": 4,
 "nbformat_minor": 4
}
